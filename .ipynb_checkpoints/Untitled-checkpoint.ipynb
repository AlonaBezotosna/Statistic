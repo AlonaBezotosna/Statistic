{
 "cells": [
  {
   "cell_type": "markdown",
   "id": "5a752b79",
   "metadata": {},
   "source": [
    "### One-way analysis of variance ANOVA"
   ]
  },
  {
   "cell_type": "markdown",
   "id": "c4f426f4",
   "metadata": {},
   "source": [
    "Have results of experiment for 4 types of therapy.  \n",
    " 'Therapy' - type  \n",
    " 'Expr'  -  average value of gene expression \n",
    " \n",
    "Need to find effect of the therapy on gene expression"
   ]
  },
  {
   "cell_type": "code",
   "execution_count": 34,
   "id": "860e1172",
   "metadata": {},
   "outputs": [],
   "source": [
    "import pandas as pd\n",
    "import scipy.stats as stats\n",
    "\n",
    "# import data \n",
    "data = pd.read_csv(\"C:\\\\Users\\\\Asus\\\\Git\\\\Models\\\\data\\\\genetherapy.csv\")"
   ]
  },
  {
   "cell_type": "code",
   "execution_count": 2,
   "id": "991cc31c",
   "metadata": {},
   "outputs": [
    {
     "data": {
      "text/html": [
       "<div>\n",
       "<style scoped>\n",
       "    .dataframe tbody tr th:only-of-type {\n",
       "        vertical-align: middle;\n",
       "    }\n",
       "\n",
       "    .dataframe tbody tr th {\n",
       "        vertical-align: top;\n",
       "    }\n",
       "\n",
       "    .dataframe thead th {\n",
       "        text-align: right;\n",
       "    }\n",
       "</style>\n",
       "<table border=\"1\" class=\"dataframe\">\n",
       "  <thead>\n",
       "    <tr style=\"text-align: right;\">\n",
       "      <th></th>\n",
       "      <th>expr</th>\n",
       "      <th>Therapy</th>\n",
       "    </tr>\n",
       "  </thead>\n",
       "  <tbody>\n",
       "    <tr>\n",
       "      <th>0</th>\n",
       "      <td>100</td>\n",
       "      <td>A</td>\n",
       "    </tr>\n",
       "    <tr>\n",
       "      <th>1</th>\n",
       "      <td>96</td>\n",
       "      <td>A</td>\n",
       "    </tr>\n",
       "    <tr>\n",
       "      <th>2</th>\n",
       "      <td>101</td>\n",
       "      <td>A</td>\n",
       "    </tr>\n",
       "    <tr>\n",
       "      <th>3</th>\n",
       "      <td>95</td>\n",
       "      <td>A</td>\n",
       "    </tr>\n",
       "    <tr>\n",
       "      <th>4</th>\n",
       "      <td>103</td>\n",
       "      <td>A</td>\n",
       "    </tr>\n",
       "  </tbody>\n",
       "</table>\n",
       "</div>"
      ],
      "text/plain": [
       "   expr Therapy\n",
       "0   100       A\n",
       "1    96       A\n",
       "2   101       A\n",
       "3    95       A\n",
       "4   103       A"
      ]
     },
     "execution_count": 2,
     "metadata": {},
     "output_type": "execute_result"
    }
   ],
   "source": [
    "data.head()"
   ]
  },
  {
   "cell_type": "code",
   "execution_count": 25,
   "id": "b21b26e7",
   "metadata": {},
   "outputs": [],
   "source": [
    "A = data[data[\"Therapy\"] == \"A\"][\"expr\"]\n",
    "B = data[data[\"Therapy\"] == \"B\"][\"expr\"]\n",
    "C = data[data[\"Therapy\"] == \"C\"][\"expr\"]\n",
    "D = data[data[\"Therapy\"] == \"D\"][\"expr\"]"
   ]
  },
  {
   "cell_type": "markdown",
   "id": "52ea9ad5",
   "metadata": {},
   "source": [
    "Ho: M1 = M2 = M3 = M4\n",
    "Ho: For all types of therapy have the same avarage value of gene expression in the population\n",
    "To dicline this hypothesis using one-way analysis of variance"
   ]
  },
  {
   "cell_type": "code",
   "execution_count": 24,
   "id": "aa1c4681",
   "metadata": {},
   "outputs": [
    {
     "data": {
      "text/plain": [
       "F_onewayResult(statistic=8.03730248114399, pvalue=0.0001524972289522953)"
      ]
     },
     "execution_count": 24,
     "metadata": {},
     "output_type": "execute_result"
    }
   ],
   "source": [
    "stats.f_oneway(A, B, C, D)"
   ]
  },
  {
   "cell_type": "markdown",
   "id": "6293019f",
   "metadata": {},
   "source": [
    "#### Same result with another code"
   ]
  },
  {
   "cell_type": "code",
   "execution_count": 21,
   "id": "03638383",
   "metadata": {},
   "outputs": [
    {
     "data": {
      "text/plain": [
       "F_onewayResult(statistic=8.03730248114399, pvalue=0.0001524972289522953)"
      ]
     },
     "execution_count": 21,
     "metadata": {},
     "output_type": "execute_result"
    }
   ],
   "source": [
    "samples=[list(frame) for group,frame in data.groupby('Therapy')['expr']]\n",
    "stats.f_oneway(*samples) "
   ]
  },
  {
   "cell_type": "code",
   "execution_count": 22,
   "id": "c2c0d03a",
   "metadata": {},
   "outputs": [
    {
     "data": {
      "text/html": [
       "<div>\n",
       "<style scoped>\n",
       "    .dataframe tbody tr th:only-of-type {\n",
       "        vertical-align: middle;\n",
       "    }\n",
       "\n",
       "    .dataframe tbody tr th {\n",
       "        vertical-align: top;\n",
       "    }\n",
       "\n",
       "    .dataframe thead th {\n",
       "        text-align: right;\n",
       "    }\n",
       "</style>\n",
       "<table border=\"1\" class=\"dataframe\">\n",
       "  <thead>\n",
       "    <tr style=\"text-align: right;\">\n",
       "      <th></th>\n",
       "      <th>expr</th>\n",
       "    </tr>\n",
       "  </thead>\n",
       "  <tbody>\n",
       "    <tr>\n",
       "      <th>count</th>\n",
       "      <td>60.000000</td>\n",
       "    </tr>\n",
       "    <tr>\n",
       "      <th>mean</th>\n",
       "      <td>96.316667</td>\n",
       "    </tr>\n",
       "    <tr>\n",
       "      <th>std</th>\n",
       "      <td>5.619252</td>\n",
       "    </tr>\n",
       "    <tr>\n",
       "      <th>min</th>\n",
       "      <td>84.000000</td>\n",
       "    </tr>\n",
       "    <tr>\n",
       "      <th>25%</th>\n",
       "      <td>93.000000</td>\n",
       "    </tr>\n",
       "    <tr>\n",
       "      <th>50%</th>\n",
       "      <td>96.000000</td>\n",
       "    </tr>\n",
       "    <tr>\n",
       "      <th>75%</th>\n",
       "      <td>100.000000</td>\n",
       "    </tr>\n",
       "    <tr>\n",
       "      <th>max</th>\n",
       "      <td>107.000000</td>\n",
       "    </tr>\n",
       "  </tbody>\n",
       "</table>\n",
       "</div>"
      ],
      "text/plain": [
       "             expr\n",
       "count   60.000000\n",
       "mean    96.316667\n",
       "std      5.619252\n",
       "min     84.000000\n",
       "25%     93.000000\n",
       "50%     96.000000\n",
       "75%    100.000000\n",
       "max    107.000000"
      ]
     },
     "execution_count": 22,
     "metadata": {},
     "output_type": "execute_result"
    }
   ],
   "source": [
    "data.describe()"
   ]
  },
  {
   "cell_type": "markdown",
   "id": "0fa0fb65",
   "metadata": {},
   "source": [
    "#### BoxPlot"
   ]
  },
  {
   "cell_type": "code",
   "execution_count": 23,
   "id": "1e8ebdba",
   "metadata": {},
   "outputs": [
    {
     "data": {
      "text/plain": [
       "<AxesSubplot: title={'center': 'expr'}, xlabel='Therapy'>"
      ]
     },
     "execution_count": 23,
     "metadata": {},
     "output_type": "execute_result"
    },
    {
     "data": {
      "image/png": "[encoded data removed]",
      "text/plain": [
       "<Figure size 864x576 with 1 Axes>"
      ]
     },
     "metadata": {
      "needs_background": "light"
     },
     "output_type": "display_data"
    }
   ],
   "source": [
    "%matplotlib inline\n",
    "data.boxplot('expr', by = 'Therapy', figsize = (12,8),  grid = True)"
   ]
  },
  {
   "cell_type": "code",
   "execution_count": 37,
   "id": "209de837",
   "metadata": {},
   "outputs": [
    {
     "data": {
      "text/plain": [
       "<AxesSubplot: xlabel='Therapy', ylabel='expr'>"
      ]
     },
     "execution_count": 37,
     "metadata": {},
     "output_type": "execute_result"
    },
    {
     "data": {
      "image/png": "[encoded data removed]",
      "text/plain": [
       "<Figure size 432x288 with 1 Axes>"
      ]
     },
     "metadata": {
      "needs_background": "light"
     },
     "output_type": "display_data"
    }
   ],
   "source": [
    "import seaborn as sns\n",
    "sns.boxplot(data = data , y ='expr', x ='Therapy')"
   ]
  },
  {
   "cell_type": "markdown",
   "id": "0cef8c51",
   "metadata": {},
   "source": [
    "#### Calculate F-statistic value"
   ]
  },
  {
   "cell_type": "code",
   "execution_count": 31,
   "id": "407b0a48",
   "metadata": {},
   "outputs": [
    {
     "name": "stdout",
     "output_type": "stream",
     "text": [
      "            df       sum_sq     mean_sq         F    PR(>F)\n",
      "Therapy    3.0   560.716667  186.905556  8.037302  0.000152\n",
      "Residual  56.0  1302.266667   23.254762       NaN       NaN\n"
     ]
    }
   ],
   "source": [
    "import statsmodels.api as sm\n",
    "from statsmodels.formula.api import ols\n",
    "\n",
    "lm = ols('expr ~ Therapy', data=data).fit()\n",
    "table = sm.stats.anova_lm(lm)\n",
    "print(table)"
   ]
  },
  {
   "cell_type": "markdown",
   "id": "dcff3d52",
   "metadata": {},
   "source": [
    "Calculating the same measures manually for better understanding of all formulas"
   ]
  },
  {
   "cell_type": "code",
   "execution_count": 32,
   "id": "a7e89a77",
   "metadata": {},
   "outputs": [
    {
     "name": "stdout",
     "output_type": "stream",
     "text": [
      "mean 96.31666666666666\n",
      "SST: 1862.9833333333331\n",
      "SSW: 1302.2666666666667\n",
      "SSB: 560.7166666666667\n",
      "F: 8.037302481143989\n"
     ]
    }
   ],
   "source": [
    "mean = data.expr.mean()\n",
    "print(\"mean\", mean)\n",
    "\n",
    "SST = 0\n",
    "for i in data.expr:\n",
    "  step = pow(i - mean, 2)\n",
    "  SST += step\n",
    "print(\"SST:\", SST) \n",
    "\n",
    "SSW = 0.0\n",
    "SSB = 0.0\n",
    "group_mean = 0.0\n",
    "groups = data.Therapy.drop_duplicates()\n",
    "\n",
    "for group_name in groups: \n",
    "    group = data[data.Therapy==group_name]\n",
    "    group_mean = group.expr.mean()\n",
    "    SSB += group.expr.count() * pow(group_mean - mean, 2)\n",
    "    for i in group.expr:\n",
    "        SSW += pow(i - group_mean, 2)\n",
    "print(\"SSW:\", SSW)\n",
    "print(\"SSB:\", SSB)\n",
    "\n",
    "df_within = data.expr.count() - groups.count()\n",
    "df_beetwen = groups.count() - 1\n",
    "F = (SSB / df_beetwen) / (SSW / df_within)\n",
    "print(\"F:\", F)"
   ]
  },
  {
   "cell_type": "code",
   "execution_count": 33,
   "id": "33a3753a",
   "metadata": {},
   "outputs": [
    {
     "name": "stdout",
     "output_type": "stream",
     "text": [
      "P: 0.00015394953640131303\n"
     ]
    },
    {
     "data": {
      "image/png": "[encoded data removed]",
      "text/plain": [
       "<Figure size 1440x576 with 1 Axes>"
      ]
     },
     "metadata": {
      "needs_background": "light"
     },
     "output_type": "display_data"
    }
   ],
   "source": [
    "from scipy.stats import f\n",
    "import numpy as np\n",
    "import matplotlib.pyplot as plt\n",
    "\n",
    "plt.figure(figsize=(20,8))\n",
    "dfn, dfd = df_beetwen, df_within\n",
    "x = np.linspace(0, F+1)\n",
    "plt.plot(x, f.pdf(x, dfn, dfd),'r-', lw=5, alpha=0.6, label='f pdf')\n",
    "plt.axvline(x=F, label='F-score')\n",
    "plt.legend()\n",
    "\n",
    "print(\"P:\", f.pdf(F, dfn, dfd))"
   ]
  }
 ],
 "metadata": {
  "kernelspec": {
   "display_name": "Python 3 (ipykernel)",
   "language": "python",
   "name": "python3"
  },
  "language_info": {
   "codemirror_mode": {
    "name": "ipython",
    "version": 3
   },
   "file_extension": ".py",
   "mimetype": "text/x-python",
   "name": "python",
   "nbconvert_exporter": "python",
   "pygments_lexer": "ipython3",
   "version": "3.10.5"
  }
 },
 "nbformat": 4,
 "nbformat_minor": 5
}
